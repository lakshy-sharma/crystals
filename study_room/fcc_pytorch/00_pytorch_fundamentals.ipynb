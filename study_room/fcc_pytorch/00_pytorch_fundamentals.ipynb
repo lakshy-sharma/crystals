{
 "cells": [
  {
   "cell_type": "markdown",
   "metadata": {},
   "source": [
    "# Pytorch Fundamentals"
   ]
  },
  {
   "cell_type": "code",
   "execution_count": 2,
   "metadata": {},
   "outputs": [],
   "source": [
    "import torch\n",
    "import pandas as pd\n",
    "import numpy as np\n",
    "import matplotlib.pyplot as plt"
   ]
  },
  {
   "cell_type": "markdown",
   "metadata": {},
   "source": [
    "## Introduction to Tensors\n",
    "\n",
    "Tensors are a way to represent high dimensional numerical data in python.\n",
    "\n",
    "Doc Link: https://pytorch.org/docs/stable/tensors.html"
   ]
  },
  {
   "cell_type": "code",
   "execution_count": 2,
   "metadata": {},
   "outputs": [
    {
     "name": "stdout",
     "output_type": "stream",
     "text": [
      "Dimension: 2\n",
      "Shape: torch.Size([2, 2])\n"
     ]
    }
   ],
   "source": [
    "# Define a tensor.\n",
    "TENSOR = torch.tensor([[7,2], [8,2]])\n",
    "\n",
    "#print(f\"Integer: {scalar.item()}\")\n",
    "# Get dimensions from the tensor.\n",
    "print(f\"Dimension: {TENSOR.ndim}\")\n",
    "# Get tensor back as python integer.\n",
    "print(f\"Shape: {TENSOR.shape}\")"
   ]
  },
  {
   "cell_type": "markdown",
   "metadata": {},
   "source": [
    "## Random tensors\n",
    "\n",
    "Random tensors are important because a way for many neural networks to learn is to start with a random tensor and fit the tensor to better represent the data.\n",
    "\n",
    "You can create random tensors using torch.rand.\n",
    "Doc Link: https://pytorch.org/docs/stable/generated/torch.rand.html "
   ]
  },
  {
   "cell_type": "code",
   "execution_count": 3,
   "metadata": {},
   "outputs": [
    {
     "data": {
      "text/plain": [
       "torch.Size([3, 244, 244])"
      ]
     },
     "execution_count": 3,
     "metadata": {},
     "output_type": "execute_result"
    }
   ],
   "source": [
    "RAND_IMAGE_TENSOR = torch.rand(3,244,244)\n",
    "RAND_IMAGE_TENSOR.shape"
   ]
  },
  {
   "cell_type": "markdown",
   "metadata": {},
   "source": [
    "## Common Tensor problems.\n",
    "\n",
    "1. Tensors are not of right datatype. (cant compute with float 16 andd float 32)\n",
    "    You can  cast a tensor using the .type() function. Example: tensor_var.type(torch.floast32)\n",
    "2. Tensors are not of right shape. (You cant perform multiplication between matrices.)\n",
    "3. Tensors are not on right device. (Device refers to the CPU or GPU.)"
   ]
  },
  {
   "cell_type": "code",
   "execution_count": 4,
   "metadata": {},
   "outputs": [
    {
     "data": {
      "text/plain": [
       "tensor([[0.8294, 0.2384, 0.9653],\n",
       "        [0.1586, 0.0240, 0.4916],\n",
       "        [0.5910, 0.1628, 0.7886]])"
      ]
     },
     "execution_count": 4,
     "metadata": {},
     "output_type": "execute_result"
    }
   ],
   "source": [
    "torch.matmul(torch.rand(3,2),torch.rand(2,3))"
   ]
  },
  {
   "cell_type": "markdown",
   "metadata": {},
   "source": [
    "## Reshaping, Stacking, Squeezing and Unsqueezing Tensors\n",
    "\n",
    "1. Reshaping: Reshapes an input tensor to a defined shape.\n",
    "2. View: This operation returns the view of an input tensor. But the returned value occupies same memory as the original and hence any changes are propagated to the original value as well.\n",
    "3. Stacking: Combine multiple tensors on top of each other (vstack) or side by side (hstack).\n",
    "4. Squeeze: Removes all 1 dimensions from a tensor.\n",
    "5. Unqueeze: Add a 1 dimension to a target tensor.\n",
    "6. Permute: This operation provides a view of the original tensor in a certain permutation (by swapping the positions as specified by the user)."
   ]
  },
  {
   "cell_type": "code",
   "execution_count": 5,
   "metadata": {},
   "outputs": [
    {
     "data": {
      "text/plain": [
       "(tensor([1, 2, 3, 4, 5, 6, 7, 8, 9]), torch.Size([9]))"
      ]
     },
     "execution_count": 5,
     "metadata": {},
     "output_type": "execute_result"
    }
   ],
   "source": [
    "x = torch.arange(1, 10)\n",
    "x, x.shape"
   ]
  },
  {
   "cell_type": "code",
   "execution_count": 6,
   "metadata": {},
   "outputs": [
    {
     "data": {
      "text/plain": [
       "tensor([[1, 2, 3, 4, 5, 6, 7, 8, 9]])"
      ]
     },
     "metadata": {},
     "output_type": "display_data"
    },
    {
     "data": {
      "text/plain": [
       "torch.Size([1, 9])"
      ]
     },
     "metadata": {},
     "output_type": "display_data"
    },
    {
     "data": {
      "text/plain": [
       "tensor([[1],\n",
       "        [2],\n",
       "        [3],\n",
       "        [4],\n",
       "        [5],\n",
       "        [6],\n",
       "        [7],\n",
       "        [8],\n",
       "        [9]])"
      ]
     },
     "metadata": {},
     "output_type": "display_data"
    },
    {
     "data": {
      "text/plain": [
       "torch.Size([9, 1])"
      ]
     },
     "metadata": {},
     "output_type": "display_data"
    },
    {
     "data": {
      "text/plain": [
       "tensor([[1, 2, 3],\n",
       "        [4, 5, 6],\n",
       "        [7, 8, 9]])"
      ]
     },
     "metadata": {},
     "output_type": "display_data"
    },
    {
     "data": {
      "text/plain": [
       "torch.Size([3, 3])"
      ]
     },
     "metadata": {},
     "output_type": "display_data"
    }
   ],
   "source": [
    "x_reshaped = x.reshape(1,9)\n",
    "display(x_reshaped, x_reshaped.shape)\n",
    "x_reshaped = x.reshape(9,1)\n",
    "display(x_reshaped, x_reshaped.shape)\n",
    "x_reshaped = x.reshape(3,3)\n",
    "display(x_reshaped, x_reshaped.shape)"
   ]
  },
  {
   "cell_type": "code",
   "execution_count": 7,
   "metadata": {},
   "outputs": [
    {
     "data": {
      "text/plain": [
       "(tensor([[9],\n",
       "         [2],\n",
       "         [3],\n",
       "         [4],\n",
       "         [5],\n",
       "         [6],\n",
       "         [7],\n",
       "         [8],\n",
       "         [9]]),\n",
       " tensor([9, 2, 3, 4, 5, 6, 7, 8, 9]))"
      ]
     },
     "execution_count": 7,
     "metadata": {},
     "output_type": "execute_result"
    }
   ],
   "source": [
    "z= x.view(9,1)\n",
    "z[0, :] = 9\n",
    "z,x"
   ]
  },
  {
   "cell_type": "code",
   "execution_count": 9,
   "metadata": {},
   "outputs": [
    {
     "data": {
      "text/plain": [
       "tensor([[[1.1312e-01, 3.5595e-01, 3.8025e-01,  ..., 2.3126e-02,\n",
       "          1.1656e-01, 7.9352e-01],\n",
       "         [8.1663e-01, 9.4457e-01, 3.3158e-01,  ..., 6.2241e-01,\n",
       "          4.3960e-01, 6.2706e-01],\n",
       "         [8.6535e-01, 8.5269e-01, 7.1332e-01,  ..., 5.3460e-01,\n",
       "          7.9346e-01, 3.4390e-01],\n",
       "         ...,\n",
       "         [5.0144e-01, 1.4514e-01, 8.0385e-01,  ..., 2.3079e-01,\n",
       "          1.7369e-01, 5.5101e-01],\n",
       "         [7.0707e-01, 3.5843e-01, 9.3624e-01,  ..., 7.2680e-01,\n",
       "          5.9055e-01, 5.4151e-01],\n",
       "         [7.3497e-01, 7.5293e-01, 5.8296e-01,  ..., 4.6109e-01,\n",
       "          5.2427e-01, 6.1827e-01]],\n",
       "\n",
       "        [[4.4926e-01, 2.9433e-01, 5.2462e-01,  ..., 9.8232e-01,\n",
       "          4.4959e-01, 5.7567e-01],\n",
       "         [3.3631e-01, 2.0952e-01, 7.2137e-01,  ..., 8.3679e-01,\n",
       "          1.7695e-01, 6.7037e-01],\n",
       "         [1.2483e-01, 6.5410e-01, 2.9455e-01,  ..., 5.5958e-01,\n",
       "          7.7700e-01, 6.2490e-01],\n",
       "         ...,\n",
       "         [3.6615e-01, 3.8577e-01, 6.2018e-01,  ..., 2.6664e-01,\n",
       "          9.3641e-01, 5.9200e-01],\n",
       "         [5.6483e-01, 2.9134e-01, 4.5765e-01,  ..., 1.0765e-01,\n",
       "          9.1214e-01, 2.3341e-01],\n",
       "         [4.1604e-01, 9.7030e-01, 7.5109e-01,  ..., 8.3350e-01,\n",
       "          6.0372e-01, 5.1927e-01]],\n",
       "\n",
       "        [[9.7911e-01, 7.8549e-01, 1.2010e-01,  ..., 4.0288e-01,\n",
       "          2.5171e-01, 7.6918e-01],\n",
       "         [8.0277e-01, 4.3369e-01, 4.7529e-01,  ..., 4.9079e-01,\n",
       "          9.0111e-01, 3.0754e-01],\n",
       "         [1.7318e-01, 7.3285e-02, 5.9857e-01,  ..., 9.4489e-01,\n",
       "          9.6903e-01, 4.4122e-01],\n",
       "         ...,\n",
       "         [5.1290e-01, 2.1662e-01, 3.4317e-01,  ..., 6.1231e-01,\n",
       "          6.6449e-01, 9.4973e-01],\n",
       "         [8.0023e-01, 8.9730e-01, 2.1793e-01,  ..., 7.0784e-02,\n",
       "          3.3158e-01, 7.1388e-04],\n",
       "         [8.0693e-01, 5.0575e-01, 3.6971e-02,  ..., 8.8502e-01,\n",
       "          4.0500e-01, 9.1543e-01]]])"
      ]
     },
     "execution_count": 9,
     "metadata": {},
     "output_type": "execute_result"
    }
   ],
   "source": [
    "x = torch.rand(size=(224,224,3))\n",
    "x_permuted = x.permute(2,0,1) # Shift the tensor where 0 becomes 2, 1 becomes 0 and 1 becomes 2\n",
    "x_permuted"
   ]
  },
  {
   "cell_type": "markdown",
   "metadata": {},
   "source": [
    "## Reproducibility\n",
    "\n",
    "How a neural network learns.\n",
    "Start with random numbers -> Tensor operations -> Update random number and make the representation better in a loop.\n",
    "\n",
    "But to introduce reproducibility we need to ensure that random generator doesnt create a new random number everytime.\n",
    "\n",
    "This is done by using a random seed value.\n",
    "Once this seed value is fixed the random number generation can be reproduced."
   ]
  },
  {
   "cell_type": "code",
   "execution_count": null,
   "metadata": {},
   "outputs": [],
   "source": []
  }
 ],
 "metadata": {
  "kernelspec": {
   "display_name": "isolation",
   "language": "python",
   "name": "python3"
  },
  "language_info": {
   "codemirror_mode": {
    "name": "ipython",
    "version": 3
   },
   "file_extension": ".py",
   "mimetype": "text/x-python",
   "name": "python",
   "nbconvert_exporter": "python",
   "pygments_lexer": "ipython3",
   "version": "3.12.3"
  }
 },
 "nbformat": 4,
 "nbformat_minor": 2
}
